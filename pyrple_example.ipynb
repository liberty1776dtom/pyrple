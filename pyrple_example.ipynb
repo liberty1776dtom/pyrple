{
 "cells": [
  {
   "cell_type": "markdown",
   "metadata": {},
   "source": [
    "# pyrple example\n",
    "### Create an instance using your Purple Wifi public and private keys.\n",
    "Loading my credentials from a locally stored *json* file in format:\n",
    "\n",
    "```json\n",
    "{\"public_key\": \"abcdefghij123454KLMnoP123\", \"private_key\": \"qrstuv98765434WxyZ\"}\n",
    "```\n",
    "\n"
   ]
  },
  {
   "cell_type": "code",
   "execution_count": 2,
   "metadata": {
    "collapsed": true
   },
   "outputs": [],
   "source": [
    "credentials = json.load(open('../credentials/purple_credentials.json'))\n",
    "public_key = str(credentials['public_key'])\n",
    "private_key = str(credentials['private_key'])"
   ]
  },
  {
   "cell_type": "markdown",
   "metadata": {},
   "source": [
    "Create the instance:"
   ]
  },
  {
   "cell_type": "code",
   "execution_count": 3,
   "metadata": {
    "collapsed": false
   },
   "outputs": [],
   "source": [
    "my_purple = purple(public_key = public_key, private_key = private_key)"
   ]
  },
  {
   "cell_type": "markdown",
   "metadata": {},
   "source": [
    "That's it! Now get your data out using the built in methods:\n",
    "```python\n",
    "    my_purple.venues()\n",
    "```\n",
    "Returns simple *json* dictionary of all your Purple wifi venues with their unique IDs.\n",
    "\n",
    "```python\n",
    "    my_purple.venues_json()\n",
    "```\n",
    "\n",
    "Returns *json* dictionary of your Purple Wifi venues with full details.\n",
    "\n",
    "```python\n",
    "    my_purple.visitor_json(venue='12345')\n",
    "```\n",
    "\n",
    "Returns *json* dictionary of all visitor info for the specified venue ID. By default it will produce all visitors currently connected at the venue, but optional parameters of *date_from* and *date_to* can be supplied in format *YYYYMMDD* to report on historic data from the specified date range."
   ]
  },
  {
   "cell_type": "code",
   "execution_count": 4,
   "metadata": {
    "collapsed": false
   },
   "outputs": [
    {
     "data": {
      "text/plain": [
       "{u'BPSDC London Wireless': 22739,\n",
       " u'BPSDC Phase 1 Penthouse Wireless': 22736,\n",
       " u'Basement 2': 23433,\n",
       " u'Podium Floor': 22583,\n",
       " u'Residents 1': 22586,\n",
       " u'Residents 2': 22587}"
      ]
     },
     "execution_count": 4,
     "metadata": {},
     "output_type": "execute_result"
    }
   ],
   "source": [
    "# Example\n",
    "my_purple.venues()"
   ]
  }
 ],
 "metadata": {
  "kernelspec": {
   "display_name": "Python 2",
   "language": "python",
   "name": "python2"
  },
  "language_info": {
   "codemirror_mode": {
    "name": "ipython",
    "version": 2
   },
   "file_extension": ".py",
   "mimetype": "text/x-python",
   "name": "python",
   "nbconvert_exporter": "python",
   "pygments_lexer": "ipython2",
   "version": "2.7.12"
  }
 },
 "nbformat": 4,
 "nbformat_minor": 0
}
